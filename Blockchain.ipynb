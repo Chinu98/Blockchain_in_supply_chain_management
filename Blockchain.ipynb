{
  "nbformat": 4,
  "nbformat_minor": 0,
  "metadata": {
    "colab": {
      "name": "Blockchain.ipynb",
      "provenance": [],
      "collapsed_sections": []
    },
    "kernelspec": {
      "name": "python3",
      "display_name": "Python 3"
    },
    "language_info": {
      "name": "python"
    }
  },
  "cells": [
    {
      "cell_type": "markdown",
      "metadata": {
        "id": "KEhAULKtruFU"
      },
      "source": [
        "#IE-714: Course Project\n",
        "\n",
        "##**A simple implementation of blockchain into supply chain**:\n"
      ]
    },
    {
      "cell_type": "markdown",
      "metadata": {
        "id": "uWfmRTALT3PI"
      },
      "source": [
        "##Libraries:"
      ]
    },
    {
      "cell_type": "code",
      "metadata": {
        "id": "ZYmZR-A3FeJw"
      },
      "source": [
        "import copy #forking a chain\n",
        "import datetime #get real time \n",
        "import hashlib #hashing\n",
        "import random #For data generation\n",
        "from timeit import default_timer as timer #To note time required to run the code\n",
        "import pandas as pd #To create the database\n",
        "import matplotlib.pyplot as plt #For plotting purpose"
      ],
      "execution_count": null,
      "outputs": []
    },
    {
      "cell_type": "markdown",
      "metadata": {
        "id": "WxTRb8h0T675"
      },
      "source": [
        "##Class representing a blockchain:"
      ]
    },
    {
      "cell_type": "code",
      "metadata": {
        "id": "XwCvd5vvIgbC"
      },
      "source": [
        "class MinimalChain():\n",
        "    def __init__(self): # initialize when creating a chain\n",
        "        self.blocks = [self.get_genesis_block()]\n",
        "\n",
        "\n",
        "    \n",
        "    def __eq__(self, other):\n",
        "        if isinstance(other, self.__class__):\n",
        "            return self.__dict__ == other.__dict__\n",
        "        else:\n",
        "            return False\n",
        "    \n",
        "    def get_genesis_block(self): \n",
        "        return MinimalBlock(0, \n",
        "                            datetime.datetime.utcnow(), \n",
        "                            'Genesis', \n",
        "                            'arbitrary')\n",
        "    \n",
        "    def add_block(self, data):\n",
        "        self.blocks.append(MinimalBlock(len(self.blocks), \n",
        "                                        datetime.datetime.utcnow(), \n",
        "                                        data, \n",
        "                                        self.blocks[len(self.blocks)-1].hash))\n",
        "    \n",
        "    def get_chain_size(self): # exclude genesis block\n",
        "        return len(self.blocks)-1\n",
        "    \n",
        "    def verify(self, verbose=True): \n",
        "        flag = True\n",
        "        for i in range(1,len(self.blocks)):\n",
        "            if not self.blocks[i].verify(): # assume Genesis block integrity\n",
        "                flag = False\n",
        "                if verbose:\n",
        "                    print(f'Wrong data type(s) at block {i}.')\n",
        "            if self.blocks[i].index != i:\n",
        "                flag = False\n",
        "                if verbose:\n",
        "                    print(f'Wrong block index at block {i}.')\n",
        "            if self.blocks[i-1].hash != self.blocks[i].previous_hash:\n",
        "                flag = False\n",
        "                if verbose:\n",
        "                    print(f'Wrong previous hash at block {i}.')\n",
        "            if self.blocks[i].hash != self.blocks[i].hashing():\n",
        "                flag = False\n",
        "                if verbose:\n",
        "                    print(f'Wrong hash at block {i}.')\n",
        "            if self.blocks[i-1].timestamp >= self.blocks[i].timestamp:\n",
        "                flag = False\n",
        "                if verbose:\n",
        "                    print(f'Backdating at block {i}.')\n",
        "        return flag\n",
        "    \n",
        "    def fork(self, head='latest'):\n",
        "        if head in ['latest', 'whole', 'all']:\n",
        "            return copy.deepcopy(self) # deepcopy since they are mutable\n",
        "        else:\n",
        "            c = copy.deepcopy(self)\n",
        "            c.blocks = c.blocks[0:head+1]\n",
        "            return c\n",
        "    \n",
        "    def get_root(self, chain_2):\n",
        "        min_chain_size = min(self.get_chain_size(), chain_2.get_chain_size())\n",
        "        for i in range(1,min_chain_size+1):\n",
        "            if self.blocks[i] != chain_2.blocks[i]:\n",
        "                return self.fork(i-1)\n",
        "        return self.fork(min_chain_size)\n",
        "\n",
        "    def make_dataframe(self):\n",
        "      index_array = []\n",
        "      timestamp_array = []\n",
        "      prev_hash_array = []\n",
        "      hash_array = []\n",
        "      source_array = []\n",
        "      category_array = []\n",
        "      product_id_array = []\n",
        "      for block in self.blocks:\n",
        "        index_array.append(block.index)\n",
        "        timestamp_array.append(block.timestamp)\n",
        "        prev_hash_array.append(block.previous_hash)\n",
        "        hash_array.append(block.hash)\n",
        "        source_array.append(block.source)\n",
        "        category_array.append(block.category)\n",
        "        product_id_array.append(block.product_id)\n",
        "\n",
        "      df = pd.DataFrame({'Index':index_array, 'Time-stamp':timestamp_array, 'Source factory':source_array, 'Category of product':category_array, 'Product ID':product_id_array, 'Previous hash':prev_hash_array, 'Hash':hash_array})\n",
        "      return df\n",
        "\n",
        "    "
      ],
      "execution_count": null,
      "outputs": []
    },
    {
      "cell_type": "markdown",
      "metadata": {
        "id": "WmRUb--oT_Qg"
      },
      "source": [
        "##Class representing an individual block:"
      ]
    },
    {
      "cell_type": "code",
      "metadata": {
        "id": "p5PY3tYNIZ1c"
      },
      "source": [
        "\n",
        "class MinimalBlock():\n",
        "    def __init__(self, index, timestamp, data, previous_hash):\n",
        "        self.index = index\n",
        "        self.timestamp = timestamp\n",
        "        self.data = data\n",
        "        self.previous_hash = previous_hash\n",
        "        self.source = self.generate_source()\n",
        "        self.category = self.generate_category()\n",
        "        self.product_id = self.generate_product_id()\n",
        "        self.hash = self.hashing()\n",
        "\n",
        "    \n",
        "    def __eq__(self, other):\n",
        "        if isinstance(other, self.__class__):\n",
        "            return self.__dict__ == other.__dict__\n",
        "        else:\n",
        "            return False\n",
        "    \n",
        "    def hashing(self):\n",
        "        key = hashlib.sha256()\n",
        "        key.update(str(self.index).encode('utf-8'))\n",
        "        key.update(str(self.timestamp).encode('utf-8'))\n",
        "        key.update(str(self.data).encode('utf-8'))\n",
        "        key.update(str(self.previous_hash).encode('utf-8'))\n",
        "        key.update(str(self.source).encode('utf-8'))\n",
        "        key.update(str(self.category).encode('utf-8'))\n",
        "        key.update(str(self.product_id).encode('utf-8'))\n",
        "        return key.hexdigest()\n",
        "\n",
        "    def generate_source(self):\n",
        "        random_source = random.choice([\"Zubeen's farm\", \"Abijith's farm\", \"Mayank's farm\", \"Chinmay's farm\"])\n",
        "        return random_source\n",
        "\n",
        "    def generate_category(self):\n",
        "        random_category = random.choice([\"Fresh edible poultry meat\", \"Frozen edible poultry meat\", \"Eggs in shell\", \"Egg yolk dried\"])\n",
        "        return random_category\n",
        "\n",
        "    def generate_product_id(self):\n",
        "        product_id = str(self.timestamp)\n",
        "        product_id = product_id.replace(':','')\n",
        "        product_id = product_id.replace(' ','')\n",
        "        product_id = product_id.replace('_','')\n",
        "        product_id = product_id.replace('-','')\n",
        "        product_id = product_id.replace('.','')\n",
        "        return product_id\n",
        "\n",
        "    def verify(self): # check data types of all info in a block\n",
        "        instances = [self.index, self.timestamp, self.previous_hash, self.hash, self.source, self.category, self.product_id]\n",
        "        types = [int, datetime.datetime, str, str,str,str,str]\n",
        "        if sum(map(lambda inst_, type_: isinstance(inst_, type_), instances, types)) == len(instances):\n",
        "            return True\n",
        "        else:\n",
        "            return False"
      ],
      "execution_count": null,
      "outputs": []
    },
    {
      "cell_type": "markdown",
      "metadata": {
        "id": "ng6PsRk0QnKi"
      },
      "source": [
        "##Creating a blockchain:\n",
        "\n",
        "We are creating a blockchain where each individual block represents a product."
      ]
    },
    {
      "cell_type": "code",
      "metadata": {
        "id": "5yCgJ0rZIi-S"
      },
      "source": [
        "c = MinimalChain() # Start a chain\n",
        "number_of_blocks = 2000\n",
        "for i in range(1,number_of_blocks +1):\n",
        "    c.add_block(f'This is block {i} of my first chain.')"
      ],
      "execution_count": null,
      "outputs": []
    },
    {
      "cell_type": "markdown",
      "metadata": {
        "id": "9C0g13C0QzFf"
      },
      "source": [
        "The details of each block, i.e. each product can be accessed from the  **Database**: "
      ]
    },
    {
      "cell_type": "code",
      "metadata": {
        "colab": {
          "base_uri": "https://localhost:8080/"
        },
        "id": "iACnzPc4ImLE",
        "outputId": "feeeb981-6a7a-4ed2-927a-3d3efd374a85"
      },
      "source": [
        "print(c.blocks[1].index)\n",
        "print(c.blocks[2].source)\n",
        "print(c.blocks[3].category)\n",
        "print(c.blocks[4].timestamp)\n",
        "print(c.blocks[5].hash)\n",
        "print(c.blocks[6].product_id)"
      ],
      "execution_count": null,
      "outputs": [
        {
          "output_type": "stream",
          "text": [
            "1\n",
            "Chinmay's farm\n",
            "Egg yolk dried\n",
            "2021-05-12 03:40:34.785548\n",
            "edd38d1b31948ceb75155a46bb11a64afd6c7cefe03ccdd7ba9c0b29c4060b78\n",
            "20210512034034785594\n"
          ],
          "name": "stdout"
        }
      ]
    },
    {
      "cell_type": "markdown",
      "metadata": {
        "id": "WnPiUvR_Q9wY"
      },
      "source": [
        "##Database:\n",
        "\n",
        "This is how the list looks"
      ]
    },
    {
      "cell_type": "code",
      "metadata": {
        "colab": {
          "base_uri": "https://localhost:8080/",
          "height": 419
        },
        "id": "S1k5_DwUNZOS",
        "outputId": "9d2ae461-e70e-45d4-ce62-39a51bb8ac0d"
      },
      "source": [
        "detail_of_c = c.make_dataframe()\n",
        "detail_of_c[['Product ID','Category of product','Source factory','Hash']]"
      ],
      "execution_count": null,
      "outputs": [
        {
          "output_type": "execute_result",
          "data": {
            "text/html": [
              "<div>\n",
              "<style scoped>\n",
              "    .dataframe tbody tr th:only-of-type {\n",
              "        vertical-align: middle;\n",
              "    }\n",
              "\n",
              "    .dataframe tbody tr th {\n",
              "        vertical-align: top;\n",
              "    }\n",
              "\n",
              "    .dataframe thead th {\n",
              "        text-align: right;\n",
              "    }\n",
              "</style>\n",
              "<table border=\"1\" class=\"dataframe\">\n",
              "  <thead>\n",
              "    <tr style=\"text-align: right;\">\n",
              "      <th></th>\n",
              "      <th>Product ID</th>\n",
              "      <th>Category of product</th>\n",
              "      <th>Source factory</th>\n",
              "      <th>Hash</th>\n",
              "    </tr>\n",
              "  </thead>\n",
              "  <tbody>\n",
              "    <tr>\n",
              "      <th>0</th>\n",
              "      <td>20210512034034785250</td>\n",
              "      <td>Fresh edible poultry meat</td>\n",
              "      <td>Zubeen's farm</td>\n",
              "      <td>9000ca5235ab7058ec5b96864cb44e4c0ff581608dd74b...</td>\n",
              "    </tr>\n",
              "    <tr>\n",
              "      <th>1</th>\n",
              "      <td>20210512034034785457</td>\n",
              "      <td>Frozen edible poultry meat</td>\n",
              "      <td>Chinmay's farm</td>\n",
              "      <td>4ea82da83c644751b5d3c8bc6a61fca8aac52502e13ebb...</td>\n",
              "    </tr>\n",
              "    <tr>\n",
              "      <th>2</th>\n",
              "      <td>20210512034034785496</td>\n",
              "      <td>Frozen edible poultry meat</td>\n",
              "      <td>Chinmay's farm</td>\n",
              "      <td>8e29514bd8a42b9102225f97d05a716a59337b0407cb61...</td>\n",
              "    </tr>\n",
              "    <tr>\n",
              "      <th>3</th>\n",
              "      <td>20210512034034785524</td>\n",
              "      <td>Egg yolk dried</td>\n",
              "      <td>Mayank's farm</td>\n",
              "      <td>de3f4bf4959dbe09249b434b58f5e88eeea3054c174dc0...</td>\n",
              "    </tr>\n",
              "    <tr>\n",
              "      <th>4</th>\n",
              "      <td>20210512034034785548</td>\n",
              "      <td>Eggs in shell</td>\n",
              "      <td>Abijith's farm</td>\n",
              "      <td>f06b771f8e14701b35e78020be991af498da7856c3f1ae...</td>\n",
              "    </tr>\n",
              "    <tr>\n",
              "      <th>...</th>\n",
              "      <td>...</td>\n",
              "      <td>...</td>\n",
              "      <td>...</td>\n",
              "      <td>...</td>\n",
              "    </tr>\n",
              "    <tr>\n",
              "      <th>1996</th>\n",
              "      <td>20210512034034817956</td>\n",
              "      <td>Fresh edible poultry meat</td>\n",
              "      <td>Mayank's farm</td>\n",
              "      <td>e028cea6c13b7760a9f4d4e28bb82b7ee464aa1f8affe1...</td>\n",
              "    </tr>\n",
              "    <tr>\n",
              "      <th>1997</th>\n",
              "      <td>20210512034034817971</td>\n",
              "      <td>Fresh edible poultry meat</td>\n",
              "      <td>Zubeen's farm</td>\n",
              "      <td>c368554d5a5c74a8981bb04bd19d0f6e832b6541fedab1...</td>\n",
              "    </tr>\n",
              "    <tr>\n",
              "      <th>1998</th>\n",
              "      <td>20210512034034817991</td>\n",
              "      <td>Egg yolk dried</td>\n",
              "      <td>Mayank's farm</td>\n",
              "      <td>7b1648d80a4fd9b804b39f60f1cf4d277cc81f39e74d7e...</td>\n",
              "    </tr>\n",
              "    <tr>\n",
              "      <th>1999</th>\n",
              "      <td>20210512034034818007</td>\n",
              "      <td>Fresh edible poultry meat</td>\n",
              "      <td>Chinmay's farm</td>\n",
              "      <td>022acc1097d2538a606f6ade7888eabca9ee55b84a5147...</td>\n",
              "    </tr>\n",
              "    <tr>\n",
              "      <th>2000</th>\n",
              "      <td>20210512034034818021</td>\n",
              "      <td>Frozen edible poultry meat</td>\n",
              "      <td>Zubeen's farm</td>\n",
              "      <td>e4958da43cc27c37cf3f13429b7ad1220535e6ad6fbd22...</td>\n",
              "    </tr>\n",
              "  </tbody>\n",
              "</table>\n",
              "<p>2001 rows × 4 columns</p>\n",
              "</div>"
            ],
            "text/plain": [
              "                Product ID  ...                                               Hash\n",
              "0     20210512034034785250  ...  9000ca5235ab7058ec5b96864cb44e4c0ff581608dd74b...\n",
              "1     20210512034034785457  ...  4ea82da83c644751b5d3c8bc6a61fca8aac52502e13ebb...\n",
              "2     20210512034034785496  ...  8e29514bd8a42b9102225f97d05a716a59337b0407cb61...\n",
              "3     20210512034034785524  ...  de3f4bf4959dbe09249b434b58f5e88eeea3054c174dc0...\n",
              "4     20210512034034785548  ...  f06b771f8e14701b35e78020be991af498da7856c3f1ae...\n",
              "...                    ...  ...                                                ...\n",
              "1996  20210512034034817956  ...  e028cea6c13b7760a9f4d4e28bb82b7ee464aa1f8affe1...\n",
              "1997  20210512034034817971  ...  c368554d5a5c74a8981bb04bd19d0f6e832b6541fedab1...\n",
              "1998  20210512034034817991  ...  7b1648d80a4fd9b804b39f60f1cf4d277cc81f39e74d7e...\n",
              "1999  20210512034034818007  ...  022acc1097d2538a606f6ade7888eabca9ee55b84a5147...\n",
              "2000  20210512034034818021  ...  e4958da43cc27c37cf3f13429b7ad1220535e6ad6fbd22...\n",
              "\n",
              "[2001 rows x 4 columns]"
            ]
          },
          "metadata": {
            "tags": []
          },
          "execution_count": 7
        }
      ]
    },
    {
      "cell_type": "code",
      "metadata": {
        "colab": {
          "base_uri": "https://localhost:8080/",
          "height": 881
        },
        "id": "erS36Jb-VHuC",
        "outputId": "00da42c5-ca4c-4843-8353-d2027ba9e199"
      },
      "source": [
        "detail_of_c"
      ],
      "execution_count": null,
      "outputs": [
        {
          "output_type": "execute_result",
          "data": {
            "text/html": [
              "<div>\n",
              "<style scoped>\n",
              "    .dataframe tbody tr th:only-of-type {\n",
              "        vertical-align: middle;\n",
              "    }\n",
              "\n",
              "    .dataframe tbody tr th {\n",
              "        vertical-align: top;\n",
              "    }\n",
              "\n",
              "    .dataframe thead th {\n",
              "        text-align: right;\n",
              "    }\n",
              "</style>\n",
              "<table border=\"1\" class=\"dataframe\">\n",
              "  <thead>\n",
              "    <tr style=\"text-align: right;\">\n",
              "      <th></th>\n",
              "      <th>Index</th>\n",
              "      <th>Time-stamp</th>\n",
              "      <th>Source factory</th>\n",
              "      <th>Category of product</th>\n",
              "      <th>Product ID</th>\n",
              "      <th>Previous hash</th>\n",
              "      <th>Hash</th>\n",
              "    </tr>\n",
              "  </thead>\n",
              "  <tbody>\n",
              "    <tr>\n",
              "      <th>0</th>\n",
              "      <td>0</td>\n",
              "      <td>2021-05-12 03:40:34.785250</td>\n",
              "      <td>Zubeen's farm</td>\n",
              "      <td>Fresh edible poultry meat</td>\n",
              "      <td>20210512034034785250</td>\n",
              "      <td>arbitrary</td>\n",
              "      <td>9000ca5235ab7058ec5b96864cb44e4c0ff581608dd74b...</td>\n",
              "    </tr>\n",
              "    <tr>\n",
              "      <th>1</th>\n",
              "      <td>1</td>\n",
              "      <td>2021-05-12 03:40:34.785457</td>\n",
              "      <td>Chinmay's farm</td>\n",
              "      <td>Frozen edible poultry meat</td>\n",
              "      <td>20210512034034785457</td>\n",
              "      <td>9000ca5235ab7058ec5b96864cb44e4c0ff581608dd74b...</td>\n",
              "      <td>4ea82da83c644751b5d3c8bc6a61fca8aac52502e13ebb...</td>\n",
              "    </tr>\n",
              "    <tr>\n",
              "      <th>2</th>\n",
              "      <td>2</td>\n",
              "      <td>2021-05-12 03:40:34.785496</td>\n",
              "      <td>Chinmay's farm</td>\n",
              "      <td>Frozen edible poultry meat</td>\n",
              "      <td>20210512034034785496</td>\n",
              "      <td>4ea82da83c644751b5d3c8bc6a61fca8aac52502e13ebb...</td>\n",
              "      <td>8e29514bd8a42b9102225f97d05a716a59337b0407cb61...</td>\n",
              "    </tr>\n",
              "    <tr>\n",
              "      <th>3</th>\n",
              "      <td>3</td>\n",
              "      <td>2021-05-12 03:40:34.785524</td>\n",
              "      <td>Mayank's farm</td>\n",
              "      <td>Egg yolk dried</td>\n",
              "      <td>20210512034034785524</td>\n",
              "      <td>8e29514bd8a42b9102225f97d05a716a59337b0407cb61...</td>\n",
              "      <td>de3f4bf4959dbe09249b434b58f5e88eeea3054c174dc0...</td>\n",
              "    </tr>\n",
              "    <tr>\n",
              "      <th>4</th>\n",
              "      <td>4</td>\n",
              "      <td>2021-05-12 03:40:34.785548</td>\n",
              "      <td>Abijith's farm</td>\n",
              "      <td>Eggs in shell</td>\n",
              "      <td>20210512034034785548</td>\n",
              "      <td>de3f4bf4959dbe09249b434b58f5e88eeea3054c174dc0...</td>\n",
              "      <td>f06b771f8e14701b35e78020be991af498da7856c3f1ae...</td>\n",
              "    </tr>\n",
              "    <tr>\n",
              "      <th>...</th>\n",
              "      <td>...</td>\n",
              "      <td>...</td>\n",
              "      <td>...</td>\n",
              "      <td>...</td>\n",
              "      <td>...</td>\n",
              "      <td>...</td>\n",
              "      <td>...</td>\n",
              "    </tr>\n",
              "    <tr>\n",
              "      <th>1996</th>\n",
              "      <td>1996</td>\n",
              "      <td>2021-05-12 03:40:34.817956</td>\n",
              "      <td>Mayank's farm</td>\n",
              "      <td>Fresh edible poultry meat</td>\n",
              "      <td>20210512034034817956</td>\n",
              "      <td>958cf86ca481aeb31e30bdd01089c684472af45f6fbafa...</td>\n",
              "      <td>e028cea6c13b7760a9f4d4e28bb82b7ee464aa1f8affe1...</td>\n",
              "    </tr>\n",
              "    <tr>\n",
              "      <th>1997</th>\n",
              "      <td>1997</td>\n",
              "      <td>2021-05-12 03:40:34.817971</td>\n",
              "      <td>Zubeen's farm</td>\n",
              "      <td>Fresh edible poultry meat</td>\n",
              "      <td>20210512034034817971</td>\n",
              "      <td>e028cea6c13b7760a9f4d4e28bb82b7ee464aa1f8affe1...</td>\n",
              "      <td>c368554d5a5c74a8981bb04bd19d0f6e832b6541fedab1...</td>\n",
              "    </tr>\n",
              "    <tr>\n",
              "      <th>1998</th>\n",
              "      <td>1998</td>\n",
              "      <td>2021-05-12 03:40:34.817991</td>\n",
              "      <td>Mayank's farm</td>\n",
              "      <td>Egg yolk dried</td>\n",
              "      <td>20210512034034817991</td>\n",
              "      <td>c368554d5a5c74a8981bb04bd19d0f6e832b6541fedab1...</td>\n",
              "      <td>7b1648d80a4fd9b804b39f60f1cf4d277cc81f39e74d7e...</td>\n",
              "    </tr>\n",
              "    <tr>\n",
              "      <th>1999</th>\n",
              "      <td>1999</td>\n",
              "      <td>2021-05-12 03:40:34.818007</td>\n",
              "      <td>Chinmay's farm</td>\n",
              "      <td>Fresh edible poultry meat</td>\n",
              "      <td>20210512034034818007</td>\n",
              "      <td>7b1648d80a4fd9b804b39f60f1cf4d277cc81f39e74d7e...</td>\n",
              "      <td>022acc1097d2538a606f6ade7888eabca9ee55b84a5147...</td>\n",
              "    </tr>\n",
              "    <tr>\n",
              "      <th>2000</th>\n",
              "      <td>2000</td>\n",
              "      <td>2021-05-12 03:40:34.818021</td>\n",
              "      <td>Zubeen's farm</td>\n",
              "      <td>Frozen edible poultry meat</td>\n",
              "      <td>20210512034034818021</td>\n",
              "      <td>022acc1097d2538a606f6ade7888eabca9ee55b84a5147...</td>\n",
              "      <td>e4958da43cc27c37cf3f13429b7ad1220535e6ad6fbd22...</td>\n",
              "    </tr>\n",
              "  </tbody>\n",
              "</table>\n",
              "<p>2001 rows × 7 columns</p>\n",
              "</div>"
            ],
            "text/plain": [
              "      Index  ...                                               Hash\n",
              "0         0  ...  9000ca5235ab7058ec5b96864cb44e4c0ff581608dd74b...\n",
              "1         1  ...  4ea82da83c644751b5d3c8bc6a61fca8aac52502e13ebb...\n",
              "2         2  ...  8e29514bd8a42b9102225f97d05a716a59337b0407cb61...\n",
              "3         3  ...  de3f4bf4959dbe09249b434b58f5e88eeea3054c174dc0...\n",
              "4         4  ...  f06b771f8e14701b35e78020be991af498da7856c3f1ae...\n",
              "...     ...  ...                                                ...\n",
              "1996   1996  ...  e028cea6c13b7760a9f4d4e28bb82b7ee464aa1f8affe1...\n",
              "1997   1997  ...  c368554d5a5c74a8981bb04bd19d0f6e832b6541fedab1...\n",
              "1998   1998  ...  7b1648d80a4fd9b804b39f60f1cf4d277cc81f39e74d7e...\n",
              "1999   1999  ...  022acc1097d2538a606f6ade7888eabca9ee55b84a5147...\n",
              "2000   2000  ...  e4958da43cc27c37cf3f13429b7ad1220535e6ad6fbd22...\n",
              "\n",
              "[2001 rows x 7 columns]"
            ]
          },
          "metadata": {
            "tags": []
          },
          "execution_count": 8
        }
      ]
    },
    {
      "cell_type": "markdown",
      "metadata": {
        "id": "wePAyzAES__5"
      },
      "source": [
        "##Verifying the Blockchain:\n"
      ]
    },
    {
      "cell_type": "code",
      "metadata": {
        "colab": {
          "base_uri": "https://localhost:8080/"
        },
        "id": "PN-4VP0BIodb",
        "outputId": "4d633eb5-26fa-44f2-ec2f-02265d9151a0"
      },
      "source": [
        "start =  timer()\n",
        "print(c.get_chain_size())\n",
        "print(c.verify())\n",
        "end  =  timer()\n",
        "print(\"Time taken =\",round(end-start,2),\"sec\")"
      ],
      "execution_count": null,
      "outputs": [
        {
          "output_type": "stream",
          "text": [
            "2000\n",
            "True\n",
            "Time taken = 0.03 sec\n"
          ],
          "name": "stdout"
        }
      ]
    },
    {
      "cell_type": "code",
      "metadata": {
        "id": "CH4YiYKEuqzV"
      },
      "source": [
        "# print(\"\\n\\nBlockchain details:\\n\\n\")\n",
        "# for i in range(number_of_blocks):\n",
        "#   print(\"DETAILS OF BLOCK\",i+1)\n",
        "#   print(\"Index of block: \\t\",c.blocks[i].index)\n",
        "#   print(\"Timestamp: \\t\\t\",c.blocks[i].timestamp)\n",
        "#   print(\"Data from block: \\t\",c.blocks[i].data)\n",
        "#   print(\"Source of the item: \\t\", c.blocks[i].source)\n",
        "#   print(\"Type of the item: \\t\", c.blocks[i].category)\n",
        "#   print(\"Hash of block: \\t\\t\", c.blocks[i].hash,\"\\n\\n\")"
      ],
      "execution_count": null,
      "outputs": []
    },
    {
      "cell_type": "markdown",
      "metadata": {
        "id": "2sak9PqWTcSh"
      },
      "source": [
        "##Forking:\n",
        "Forking is a phenomenon when the current structure of blockchain is tampered and challenged. \n",
        "\n",
        "Here we are creating a forked chain named **c.forked** using the deepcopy function. If we try to change any data from the forked chain, the verify() function will immidiately detect the discrepancy and print it out. "
      ]
    },
    {
      "cell_type": "code",
      "metadata": {
        "colab": {
          "base_uri": "https://localhost:8080/"
        },
        "id": "EAy0dONpI0VO",
        "outputId": "1cb16679-025f-4222-9e97-ec7f37c9a9b3"
      },
      "source": [
        "start = timer()\n",
        "c_forked = c.fork('latest')\n",
        "end = timer()\n",
        "print(c == c_forked)\n",
        "print(\"Time taken for forking =\",round(end-start),\"sec\")"
      ],
      "execution_count": null,
      "outputs": [
        {
          "output_type": "stream",
          "text": [
            "True\n",
            "Time taken for forking = 0 sec\n"
          ],
          "name": "stdout"
        }
      ]
    },
    {
      "cell_type": "code",
      "metadata": {
        "colab": {
          "base_uri": "https://localhost:8080/"
        },
        "id": "LhcWwwt_a11m",
        "outputId": "b34ac885-f186-4d40-cb74-6670fe04587c"
      },
      "source": [
        "start = timer()\n",
        "c_forked.verify()\n",
        "end = timer()\n",
        "print(\"Time taken to verify the forked blockchain =\",round(end-start),\"sec\")"
      ],
      "execution_count": null,
      "outputs": [
        {
          "output_type": "stream",
          "text": [
            "Time taken to verify the forked blockchain = 0 sec\n"
          ],
          "name": "stdout"
        }
      ]
    },
    {
      "cell_type": "code",
      "metadata": {
        "colab": {
          "base_uri": "https://localhost:8080/"
        },
        "id": "GwhPrF13I2EK",
        "outputId": "8e770032-daff-4f1b-ec9d-5866b9c5e16c"
      },
      "source": [
        "start = timer()\n",
        "c_forked.add_block('New block for forked chain!')\n",
        "end = timer()\n",
        "print(c.get_chain_size(), c_forked.get_chain_size())\n",
        "print(\"Time taken for adding a new block=\",round(end-start,5),\"sec\")"
      ],
      "execution_count": null,
      "outputs": [
        {
          "output_type": "stream",
          "text": [
            "2000 2001\n",
            "Time taken for adding a new block= 0.00017 sec\n"
          ],
          "name": "stdout"
        }
      ]
    },
    {
      "cell_type": "code",
      "metadata": {
        "colab": {
          "base_uri": "https://localhost:8080/"
        },
        "id": "fGHrTeDiI4wU",
        "outputId": "8e690c75-e78f-4914-d75f-65ecfcf2946e"
      },
      "source": [
        "start_1 = timer()\n",
        "c_forked = c.fork('latest')\n",
        "end_1 = timer()\n",
        "start_2 = timer()\n",
        "print(c_forked.verify())\n",
        "end_2 = timer()\n",
        "print(\"Time taken to fork and tamper indices =\",round(end_1-start_1),\"sec\")\n",
        "print(\"Time taken to verify tampared blockchain =\",round(end_2-start_2),\"sec\")"
      ],
      "execution_count": null,
      "outputs": [
        {
          "output_type": "stream",
          "text": [
            "True\n",
            "Time taken to fork and tamper indices = 0 sec\n",
            "Time taken to verify tampared blockchain = 0 sec\n"
          ],
          "name": "stdout"
        }
      ]
    },
    {
      "cell_type": "code",
      "metadata": {
        "colab": {
          "base_uri": "https://localhost:8080/"
        },
        "id": "ZI_B6DcYbCMu",
        "outputId": "c04de2c2-a5c5-4644-f31c-0c261a70bdec"
      },
      "source": [
        "start = timer()\n",
        "c_forked.verify()\n",
        "end = timer()\n",
        "print(\"Time taken =\",round(end-start),\"sec\")"
      ],
      "execution_count": null,
      "outputs": [
        {
          "output_type": "stream",
          "text": [
            "Time taken = 0 sec\n"
          ],
          "name": "stdout"
        }
      ]
    },
    {
      "cell_type": "code",
      "metadata": {
        "colab": {
          "base_uri": "https://localhost:8080/"
        },
        "id": "512PyrclO0rq",
        "outputId": "c17477c1-ba2e-4e6d-e056-e508c45e1538"
      },
      "source": [
        "print(\"Verifying the blockchain...\\nDiscrepancies found:\\n\")\n",
        "start = timer()\n",
        "c_forked = c.fork('latest')\n",
        "c_forked.blocks[119].index = 129\n",
        "c_forked.blocks[6].index = 5\n",
        "c_forked.blocks[1345].index = 1354\n",
        "c_forked.blocks[146].timestamp = datetime.datetime(2020, 6, 4, 0, 0, 0, 0)\n",
        "c_forked.blocks[713].timestamp = datetime.datetime(2020, 5, 4, 0, 0, 0, 0)\n",
        "c_forked.blocks[1579].timestamp = datetime.datetime(2020, 4, 4, 0, 0, 0, 0)\n",
        "c_forked.verify()\n",
        "end = timer()\n",
        "print(\"\\n(Time taken for verification = 10.45 sec)\")"
      ],
      "execution_count": null,
      "outputs": [
        {
          "output_type": "stream",
          "text": [
            "Verifying the blockchain...\n",
            "Discrepancies found:\n",
            "\n",
            "Wrong block index at block 6.\n",
            "Wrong hash at block 6.\n",
            "Wrong block index at block 119.\n",
            "Wrong hash at block 119.\n",
            "Wrong hash at block 146.\n",
            "Backdating at block 146.\n",
            "Wrong hash at block 713.\n",
            "Backdating at block 713.\n",
            "Wrong block index at block 1345.\n",
            "Wrong hash at block 1345.\n",
            "Wrong hash at block 1579.\n",
            "Backdating at block 1579.\n",
            "\n",
            "(Time taken for verification = 10.45 sec)\n"
          ],
          "name": "stdout"
        }
      ]
    },
    {
      "cell_type": "code",
      "metadata": {
        "colab": {
          "base_uri": "https://localhost:8080/"
        },
        "id": "zZMH8_qKbV-e",
        "outputId": "ce3effb6-17ff-444d-c08b-de041467ea1e"
      },
      "source": [
        "start = timer()\n",
        "c_forked.verify()\n",
        "end = timer()\n",
        "print(\"Time taken =\",round(end-start),\"sec\")"
      ],
      "execution_count": null,
      "outputs": [
        {
          "output_type": "stream",
          "text": [
            "Wrong block index at block 6.\n",
            "Wrong hash at block 6.\n",
            "Wrong block index at block 119.\n",
            "Wrong hash at block 119.\n",
            "Wrong hash at block 146.\n",
            "Backdating at block 146.\n",
            "Wrong hash at block 713.\n",
            "Backdating at block 713.\n",
            "Wrong block index at block 1345.\n",
            "Wrong hash at block 1345.\n",
            "Wrong hash at block 1579.\n",
            "Backdating at block 1579.\n",
            "Time taken = 0 sec\n"
          ],
          "name": "stdout"
        }
      ]
    },
    {
      "cell_type": "code",
      "metadata": {
        "colab": {
          "base_uri": "https://localhost:8080/"
        },
        "id": "q-k0ILKYO2GW",
        "outputId": "7c48f79c-070f-4747-a38c-bdc0a868127e"
      },
      "source": [
        "start = timer()\n",
        "c_forked = c.fork('latest')\n",
        "c_forked.blocks[5].previous_hash = c_forked.blocks[1].hash\n",
        "c_forked.verify()\n",
        "end = timer()\n",
        "print(\"Time taken =\",round(end-start),\"sec\")"
      ],
      "execution_count": null,
      "outputs": [
        {
          "output_type": "stream",
          "text": [
            "Wrong previous hash at block 5.\n",
            "Wrong hash at block 5.\n",
            "Time taken = 0 sec\n"
          ],
          "name": "stdout"
        }
      ]
    },
    {
      "cell_type": "code",
      "metadata": {
        "colab": {
          "base_uri": "https://localhost:8080/"
        },
        "id": "ZkFL3ELMbcr7",
        "outputId": "9f617877-e5c4-4803-d15b-d0bacf903526"
      },
      "source": [
        "start = timer()\n",
        "c_forked.verify()\n",
        "end = timer()\n",
        "print(\"Time taken =\",round(end-start),\"sec\")"
      ],
      "execution_count": null,
      "outputs": [
        {
          "output_type": "stream",
          "text": [
            "Wrong previous hash at block 5.\n",
            "Wrong hash at block 5.\n",
            "Time taken = 0 sec\n"
          ],
          "name": "stdout"
        }
      ]
    },
    {
      "cell_type": "markdown",
      "metadata": {
        "id": "qaNoGgFoRG4Q"
      },
      "source": [
        "##Random products Bought:\n",
        "Let's order 10 different products of this supply chain from random places:"
      ]
    },
    {
      "cell_type": "code",
      "metadata": {
        "colab": {
          "base_uri": "https://localhost:8080/"
        },
        "id": "P9kc2sVB8Yna",
        "outputId": "5ad16763-3481-46af-bec3-3c306441c23c"
      },
      "source": [
        "print(\"The IDs of products I bought are: \\n\")\n",
        "products_list = []\n",
        "for i in range(10):\n",
        "  n = random.randint(1,number_of_blocks)\n",
        "  print(c.blocks[n].product_id)\n",
        "  products_list.append(n)"
      ],
      "execution_count": null,
      "outputs": [
        {
          "output_type": "stream",
          "text": [
            "The IDs of products I bought are: \n",
            "\n",
            "20210512034034807937\n",
            "20210512034034789127\n",
            "20210512034034810916\n",
            "20210512034034800213\n",
            "20210512034034794044\n",
            "20210512034034808891\n",
            "20210512034034795477\n",
            "20210512034034794967\n",
            "20210512034034787856\n",
            "20210512034034803821\n"
          ],
          "name": "stdout"
        }
      ]
    },
    {
      "cell_type": "code",
      "metadata": {
        "id": "dKuaOkow0Ddn"
      },
      "source": [
        "products_bought  =  products_list"
      ],
      "execution_count": null,
      "outputs": []
    },
    {
      "cell_type": "markdown",
      "metadata": {
        "id": "0bf6KQ3sRQRb"
      },
      "source": [
        "##Tracing the details of your product:"
      ]
    },
    {
      "cell_type": "code",
      "metadata": {
        "colab": {
          "base_uri": "https://localhost:8080/"
        },
        "id": "x_gS8qmL0F8u",
        "outputId": "9fe9e974-0abb-4e1f-c0f1-73d56faaadae"
      },
      "source": [
        "count = 0\n",
        "\n",
        "start = timer()\n",
        "\n",
        "index_array = []\n",
        "timestamp_array = []\n",
        "prev_hash_array = []\n",
        "hash_array = []\n",
        "source_array = []\n",
        "category_array = []\n",
        "product_id_array = []\n",
        "\n",
        "for number_of_block in range(len(c.blocks)):\n",
        "  if c.blocks[number_of_block].index in products_bought:\n",
        "    count += 1\n",
        "    print(\"\\nYour product\",count,\"details are:\\n\")\n",
        "    print(\"\\tProduct ID:\\t\\t\",c.blocks[number_of_block].product_id)\n",
        "    print(\"\\tIndex of block: \\t\",c.blocks[number_of_block].index)\n",
        "    print(\"\\tTimestamp: \\t\\t\",c.blocks[number_of_block].timestamp)\n",
        "    print(\"\\tSource of the item: \\t\", c.blocks[number_of_block].source)\n",
        "    print(\"\\tType of the item: \\t\", c.blocks[number_of_block].category)\n",
        "    print(\"\\tHash of block: \\t\\t\", c.blocks[number_of_block].hash,\"\\n\")\n",
        "\n",
        "    index_array.append(c.blocks[number_of_block].index)\n",
        "    timestamp_array.append(c.blocks[number_of_block].timestamp)\n",
        "    prev_hash_array.append(c.blocks[number_of_block].previous_hash)\n",
        "    hash_array.append(c.blocks[number_of_block].hash)\n",
        "    source_array.append(c.blocks[number_of_block].source)\n",
        "    category_array.append(c.blocks[number_of_block].category)\n",
        "    product_id_array.append(c.blocks[number_of_block].product_id)\n",
        "\n",
        "    your_product_details = pd.DataFrame({'Index':index_array, 'Time-stamp':timestamp_array, 'Previous hash':prev_hash_array, 'Hash':hash_array, 'Source factory':source_array, 'Category of product':category_array, 'Product ID':product_id_array})\n",
        "\n",
        "\n",
        "end = timer()\n",
        "\n",
        "print(\"IT TOOK\",round(end-start,2),\"SEC TO DETECT ALL THE PRODUCTS' DETAILS!\")"
      ],
      "execution_count": null,
      "outputs": [
        {
          "output_type": "stream",
          "text": [
            "\n",
            "Your product 1 details are:\n",
            "\n",
            "\tProduct ID:\t\t 20210512034034787856\n",
            "\tIndex of block: \t 79\n",
            "\tTimestamp: \t\t 2021-05-12 03:40:34.787856\n",
            "\tSource of the item: \t Chinmay's farm\n",
            "\tType of the item: \t Fresh edible poultry meat\n",
            "\tHash of block: \t\t f6415386802f97c358e5f01d9749789a92ff027e04f35d5076dbc29c30d117cf \n",
            "\n",
            "\n",
            "Your product 2 details are:\n",
            "\n",
            "\tProduct ID:\t\t 20210512034034789127\n",
            "\tIndex of block: \t 126\n",
            "\tTimestamp: \t\t 2021-05-12 03:40:34.789127\n",
            "\tSource of the item: \t Zubeen's farm\n",
            "\tType of the item: \t Eggs in shell\n",
            "\tHash of block: \t\t adc813dab736484f12444666fbe9e8630f141ee242de680643ff4c1d01051cf0 \n",
            "\n",
            "\n",
            "Your product 3 details are:\n",
            "\n",
            "\tProduct ID:\t\t 20210512034034794044\n",
            "\tIndex of block: \t 331\n",
            "\tTimestamp: \t\t 2021-05-12 03:40:34.794044\n",
            "\tSource of the item: \t Zubeen's farm\n",
            "\tType of the item: \t Frozen edible poultry meat\n",
            "\tHash of block: \t\t 9c8eff35aa2a2e98f6f479ee8f8fbe4a9c75f069575942f39592ffbb95d2545a \n",
            "\n",
            "\n",
            "Your product 4 details are:\n",
            "\n",
            "\tProduct ID:\t\t 20210512034034794967\n",
            "\tIndex of block: \t 388\n",
            "\tTimestamp: \t\t 2021-05-12 03:40:34.794967\n",
            "\tSource of the item: \t Abijith's farm\n",
            "\tType of the item: \t Egg yolk dried\n",
            "\tHash of block: \t\t ff8051eff0e59777ab285582b48d50915c43c4e6c6decbc0f4802eef2fdbd4f1 \n",
            "\n",
            "\n",
            "Your product 5 details are:\n",
            "\n",
            "\tProduct ID:\t\t 20210512034034795477\n",
            "\tIndex of block: \t 424\n",
            "\tTimestamp: \t\t 2021-05-12 03:40:34.795477\n",
            "\tSource of the item: \t Zubeen's farm\n",
            "\tType of the item: \t Frozen edible poultry meat\n",
            "\tHash of block: \t\t 94b0f5c2d063011c6b555298b7bfd5eb17227c56ba6cf9ae7615a2dc3386c198 \n",
            "\n",
            "\n",
            "Your product 6 details are:\n",
            "\n",
            "\tProduct ID:\t\t 20210512034034800213\n",
            "\tIndex of block: \t 755\n",
            "\tTimestamp: \t\t 2021-05-12 03:40:34.800213\n",
            "\tSource of the item: \t Mayank's farm\n",
            "\tType of the item: \t Fresh edible poultry meat\n",
            "\tHash of block: \t\t 4bdbfdaef729dca02070d9fbed94993a139ee9ed19844d11dd2c15318533985a \n",
            "\n",
            "\n",
            "Your product 7 details are:\n",
            "\n",
            "\tProduct ID:\t\t 20210512034034803821\n",
            "\tIndex of block: \t 1013\n",
            "\tTimestamp: \t\t 2021-05-12 03:40:34.803821\n",
            "\tSource of the item: \t Chinmay's farm\n",
            "\tType of the item: \t Eggs in shell\n",
            "\tHash of block: \t\t b354cee2228b51c926931f9d5b06193a0f196c9d52d68968131995e15a8fc281 \n",
            "\n",
            "\n",
            "Your product 8 details are:\n",
            "\n",
            "\tProduct ID:\t\t 20210512034034807937\n",
            "\tIndex of block: \t 1301\n",
            "\tTimestamp: \t\t 2021-05-12 03:40:34.807937\n",
            "\tSource of the item: \t Chinmay's farm\n",
            "\tType of the item: \t Frozen edible poultry meat\n",
            "\tHash of block: \t\t 8ed5cadaec02c8451a4cc7d14e6ab62de328dacf559456fb44fdbf31ab42c58b \n",
            "\n",
            "\n",
            "Your product 9 details are:\n",
            "\n",
            "\tProduct ID:\t\t 20210512034034808891\n",
            "\tIndex of block: \t 1370\n",
            "\tTimestamp: \t\t 2021-05-12 03:40:34.808891\n",
            "\tSource of the item: \t Zubeen's farm\n",
            "\tType of the item: \t Egg yolk dried\n",
            "\tHash of block: \t\t 872502b1ec29b892b0486e7455912ded63bfd8a04a7554c0d76ab3656496a54c \n",
            "\n",
            "\n",
            "Your product 10 details are:\n",
            "\n",
            "\tProduct ID:\t\t 20210512034034810916\n",
            "\tIndex of block: \t 1504\n",
            "\tTimestamp: \t\t 2021-05-12 03:40:34.810916\n",
            "\tSource of the item: \t Chinmay's farm\n",
            "\tType of the item: \t Fresh edible poultry meat\n",
            "\tHash of block: \t\t 1b4c7d2b4f7dfb234e055dc92229db5a423c99a74a4f41f826bfdcb72f68147b \n",
            "\n",
            "IT TOOK 0.03 SEC TO DETECT ALL THE PRODUCTS' DETAILS!\n"
          ],
          "name": "stdout"
        }
      ]
    },
    {
      "cell_type": "markdown",
      "metadata": {
        "id": "buLBsuZSR7KB"
      },
      "source": [
        "##These are the details of your purchase:"
      ]
    },
    {
      "cell_type": "code",
      "metadata": {
        "colab": {
          "base_uri": "https://localhost:8080/",
          "height": 393
        },
        "id": "tRlew0wcOWsr",
        "outputId": "c45c1c31-cf62-4014-c0c5-358162ce0b89"
      },
      "source": [
        "print(\"The details of the products you bought are traced as follows:\")\n",
        "print(\"Found in\",round(end-start,3),\"sec\")\n",
        "pd.DataFrame(your_product_details[['Index','Product ID','Time-stamp','Source factory','Category of product']])"
      ],
      "execution_count": null,
      "outputs": [
        {
          "output_type": "stream",
          "text": [
            "The details of the products you bought are traced as follows:\n",
            "Found in 0.03 sec\n"
          ],
          "name": "stdout"
        },
        {
          "output_type": "execute_result",
          "data": {
            "text/html": [
              "<div>\n",
              "<style scoped>\n",
              "    .dataframe tbody tr th:only-of-type {\n",
              "        vertical-align: middle;\n",
              "    }\n",
              "\n",
              "    .dataframe tbody tr th {\n",
              "        vertical-align: top;\n",
              "    }\n",
              "\n",
              "    .dataframe thead th {\n",
              "        text-align: right;\n",
              "    }\n",
              "</style>\n",
              "<table border=\"1\" class=\"dataframe\">\n",
              "  <thead>\n",
              "    <tr style=\"text-align: right;\">\n",
              "      <th></th>\n",
              "      <th>Index</th>\n",
              "      <th>Product ID</th>\n",
              "      <th>Time-stamp</th>\n",
              "      <th>Source factory</th>\n",
              "      <th>Category of product</th>\n",
              "    </tr>\n",
              "  </thead>\n",
              "  <tbody>\n",
              "    <tr>\n",
              "      <th>0</th>\n",
              "      <td>79</td>\n",
              "      <td>20210512034034787856</td>\n",
              "      <td>2021-05-12 03:40:34.787856</td>\n",
              "      <td>Chinmay's farm</td>\n",
              "      <td>Fresh edible poultry meat</td>\n",
              "    </tr>\n",
              "    <tr>\n",
              "      <th>1</th>\n",
              "      <td>126</td>\n",
              "      <td>20210512034034789127</td>\n",
              "      <td>2021-05-12 03:40:34.789127</td>\n",
              "      <td>Zubeen's farm</td>\n",
              "      <td>Eggs in shell</td>\n",
              "    </tr>\n",
              "    <tr>\n",
              "      <th>2</th>\n",
              "      <td>331</td>\n",
              "      <td>20210512034034794044</td>\n",
              "      <td>2021-05-12 03:40:34.794044</td>\n",
              "      <td>Zubeen's farm</td>\n",
              "      <td>Frozen edible poultry meat</td>\n",
              "    </tr>\n",
              "    <tr>\n",
              "      <th>3</th>\n",
              "      <td>388</td>\n",
              "      <td>20210512034034794967</td>\n",
              "      <td>2021-05-12 03:40:34.794967</td>\n",
              "      <td>Abijith's farm</td>\n",
              "      <td>Egg yolk dried</td>\n",
              "    </tr>\n",
              "    <tr>\n",
              "      <th>4</th>\n",
              "      <td>424</td>\n",
              "      <td>20210512034034795477</td>\n",
              "      <td>2021-05-12 03:40:34.795477</td>\n",
              "      <td>Zubeen's farm</td>\n",
              "      <td>Frozen edible poultry meat</td>\n",
              "    </tr>\n",
              "    <tr>\n",
              "      <th>5</th>\n",
              "      <td>755</td>\n",
              "      <td>20210512034034800213</td>\n",
              "      <td>2021-05-12 03:40:34.800213</td>\n",
              "      <td>Mayank's farm</td>\n",
              "      <td>Fresh edible poultry meat</td>\n",
              "    </tr>\n",
              "    <tr>\n",
              "      <th>6</th>\n",
              "      <td>1013</td>\n",
              "      <td>20210512034034803821</td>\n",
              "      <td>2021-05-12 03:40:34.803821</td>\n",
              "      <td>Chinmay's farm</td>\n",
              "      <td>Eggs in shell</td>\n",
              "    </tr>\n",
              "    <tr>\n",
              "      <th>7</th>\n",
              "      <td>1301</td>\n",
              "      <td>20210512034034807937</td>\n",
              "      <td>2021-05-12 03:40:34.807937</td>\n",
              "      <td>Chinmay's farm</td>\n",
              "      <td>Frozen edible poultry meat</td>\n",
              "    </tr>\n",
              "    <tr>\n",
              "      <th>8</th>\n",
              "      <td>1370</td>\n",
              "      <td>20210512034034808891</td>\n",
              "      <td>2021-05-12 03:40:34.808891</td>\n",
              "      <td>Zubeen's farm</td>\n",
              "      <td>Egg yolk dried</td>\n",
              "    </tr>\n",
              "    <tr>\n",
              "      <th>9</th>\n",
              "      <td>1504</td>\n",
              "      <td>20210512034034810916</td>\n",
              "      <td>2021-05-12 03:40:34.810916</td>\n",
              "      <td>Chinmay's farm</td>\n",
              "      <td>Fresh edible poultry meat</td>\n",
              "    </tr>\n",
              "  </tbody>\n",
              "</table>\n",
              "</div>"
            ],
            "text/plain": [
              "   Index            Product ID  ...  Source factory         Category of product\n",
              "0     79  20210512034034787856  ...  Chinmay's farm   Fresh edible poultry meat\n",
              "1    126  20210512034034789127  ...   Zubeen's farm               Eggs in shell\n",
              "2    331  20210512034034794044  ...   Zubeen's farm  Frozen edible poultry meat\n",
              "3    388  20210512034034794967  ...  Abijith's farm              Egg yolk dried\n",
              "4    424  20210512034034795477  ...   Zubeen's farm  Frozen edible poultry meat\n",
              "5    755  20210512034034800213  ...   Mayank's farm   Fresh edible poultry meat\n",
              "6   1013  20210512034034803821  ...  Chinmay's farm               Eggs in shell\n",
              "7   1301  20210512034034807937  ...  Chinmay's farm  Frozen edible poultry meat\n",
              "8   1370  20210512034034808891  ...   Zubeen's farm              Egg yolk dried\n",
              "9   1504  20210512034034810916  ...  Chinmay's farm   Fresh edible poultry meat\n",
              "\n",
              "[10 rows x 5 columns]"
            ]
          },
          "metadata": {
            "tags": []
          },
          "execution_count": 23
        }
      ]
    },
    {
      "cell_type": "markdown",
      "metadata": {
        "id": "DU14JGXIbFzO"
      },
      "source": [
        "###Analysis of number of blocks vs time:"
      ]
    },
    {
      "cell_type": "code",
      "metadata": {
        "id": "LU4ZxNBUbLhn"
      },
      "source": [
        "nob_values =  [10000,25000,50000,100000,250000,500000,1000000]\n",
        "nob_values_2 = [1000000,2500000,5000000,10000000,25000000,50000000]"
      ],
      "execution_count": null,
      "outputs": []
    },
    {
      "cell_type": "code",
      "metadata": {
        "colab": {
          "base_uri": "https://localhost:8080/",
          "height": 1000
        },
        "id": "-A8faQO4buf9",
        "outputId": "735333c9-8ebc-45ea-e779-f6f2c9a3b4e7"
      },
      "source": [
        "time_to_create_fork =  []\n",
        "time_to_verify_chain = []\n",
        "time_to_trace_items = []\n",
        "product_purchased_dataframes = []\n",
        "\n",
        "for number_of_blocks in nob_values:\n",
        "  print(\"\\n\\nFOR\",number_of_blocks,\"BLOCKS/PRODUCTS:\\n\")\n",
        "  chain = MinimalChain()\n",
        "  for i in range(1,number_of_blocks +1):\n",
        "    chain.add_block('This block belongs to chain')\n",
        "  \n",
        "  start = timer()\n",
        "  counter_chain = chain.fork('latest')\n",
        "  end = timer ()\n",
        "  print(\"Counter chain comparison status with original chain: \", chain == counter_chain)\n",
        "  print(\"Time taken to fork the chain = \",round(end-start,2),\"sec\")\n",
        "  time_to_create_fork.append(round(end-start,4))\n",
        "\n",
        "  start = timer()\n",
        "  counter_chain.blocks[9].index = -9 \n",
        "  counter_chain.blocks[5].previous_hash = counter_chain.blocks[2].hash\n",
        "  counter_chain.blocks[16].timestamp = datetime.datetime(2020, 6, 4, 0, 0, 0, 0)\n",
        "  counter_chain.blocks[17].timestamp = datetime.datetime(2020, 5, 4, 0, 0, 0, 0)\n",
        "  counter_chain.blocks[18].timestamp = datetime.datetime(2020, 4, 4, 0, 0, 0, 0)\n",
        "  counter_chain.verify()\n",
        "  end = timer()\n",
        "  time_to_verify_chain.append(round(end-start,2))\n",
        "  print(\"Time to verify the counter chain =\",round(end-start,4),\"sec.\")\n",
        "\n",
        "for number_of_blocks in nob_values:\n",
        "  print(\"\\n\\nFOR\",number_of_blocks,\"BLOCKS/PRODUCTS:\\n\")\n",
        "  chain = MinimalChain()\n",
        "  for i in range(1,number_of_blocks +1):\n",
        "    chain.add_block('This block belongs to chain')\n",
        "  \n",
        " \n",
        "  start = timer()\n",
        "\n",
        "  index_array = []\n",
        "  timestamp_array = []\n",
        "  prev_hash_array = []\n",
        "  hash_array = []\n",
        "  source_array = []\n",
        "  category_array = []\n",
        "  product_id_array = []\n",
        "\n",
        "  for number_of_block in range(len(c.blocks)):\n",
        "    if c.blocks[number_of_block].index in products_bought:\n",
        "      count += 1\n",
        "      index_array.append(c.blocks[number_of_block].index)\n",
        "      timestamp_array.append(c.blocks[number_of_block].timestamp)\n",
        "      prev_hash_array.append(c.blocks[number_of_block].previous_hash)\n",
        "      hash_array.append(c.blocks[number_of_block].hash)\n",
        "      source_array.append(c.blocks[number_of_block].source)\n",
        "      category_array.append(c.blocks[number_of_block].category)\n",
        "      product_id_array.append(c.blocks[number_of_block].product_id)\n",
        "\n",
        "      your_product_details = pd.DataFrame({'Index':index_array, 'Time-stamp':timestamp_array, 'Previous hash':prev_hash_array, 'Hash':hash_array, 'Source factory':source_array, 'Category of product':category_array, 'Product ID':product_id_array})\n",
        "  \n",
        "  product_purchased_dataframes.append(your_product_details)\n",
        "  end = timer()\n",
        "  time_to_trace_items.append(round(end-start,4))\n",
        "  print(\"Time taken to trace the items =\",round(end-start,2),\"sec.\")\n",
        "\n",
        "\n",
        "\n"
      ],
      "execution_count": null,
      "outputs": [
        {
          "output_type": "stream",
          "text": [
            "\n",
            "\n",
            "FOR 10000 BLOCKS/PRODUCTS:\n",
            "\n",
            "Counter chain comparison status with original chain:  True\n",
            "Time taken to fork the chain =  0.26 sec\n",
            "Wrong previous hash at block 5.\n",
            "Wrong hash at block 5.\n",
            "Wrong block index at block 9.\n",
            "Wrong hash at block 9.\n",
            "Wrong hash at block 16.\n",
            "Backdating at block 16.\n",
            "Wrong hash at block 17.\n",
            "Backdating at block 17.\n",
            "Wrong hash at block 18.\n",
            "Backdating at block 18.\n",
            "Time to verify the counter chain = 0.1177 sec.\n",
            "\n",
            "\n",
            "FOR 25000 BLOCKS/PRODUCTS:\n",
            "\n",
            "Counter chain comparison status with original chain:  True\n",
            "Time taken to fork the chain =  0.61 sec\n",
            "Wrong previous hash at block 5.\n",
            "Wrong hash at block 5.\n",
            "Wrong block index at block 9.\n",
            "Wrong hash at block 9.\n",
            "Wrong hash at block 16.\n",
            "Backdating at block 16.\n",
            "Wrong hash at block 17.\n",
            "Backdating at block 17.\n",
            "Wrong hash at block 18.\n",
            "Backdating at block 18.\n",
            "Time to verify the counter chain = 0.2906 sec.\n",
            "\n",
            "\n",
            "FOR 50000 BLOCKS/PRODUCTS:\n",
            "\n",
            "Counter chain comparison status with original chain:  True\n",
            "Time taken to fork the chain =  1.39 sec\n",
            "Wrong previous hash at block 5.\n",
            "Wrong hash at block 5.\n",
            "Wrong block index at block 9.\n",
            "Wrong hash at block 9.\n",
            "Wrong hash at block 16.\n",
            "Backdating at block 16.\n",
            "Wrong hash at block 17.\n",
            "Backdating at block 17.\n",
            "Wrong hash at block 18.\n",
            "Backdating at block 18.\n",
            "Time to verify the counter chain = 0.554 sec.\n",
            "\n",
            "\n",
            "FOR 100000 BLOCKS/PRODUCTS:\n",
            "\n",
            "Counter chain comparison status with original chain:  True\n",
            "Time taken to fork the chain =  2.73 sec\n",
            "Wrong previous hash at block 5.\n",
            "Wrong hash at block 5.\n",
            "Wrong block index at block 9.\n",
            "Wrong hash at block 9.\n",
            "Wrong hash at block 16.\n",
            "Backdating at block 16.\n",
            "Wrong hash at block 17.\n",
            "Backdating at block 17.\n",
            "Wrong hash at block 18.\n",
            "Backdating at block 18.\n",
            "Time to verify the counter chain = 1.1092 sec.\n",
            "\n",
            "\n",
            "FOR 250000 BLOCKS/PRODUCTS:\n",
            "\n",
            "Counter chain comparison status with original chain:  True\n",
            "Time taken to fork the chain =  7.1 sec\n",
            "Wrong previous hash at block 5.\n",
            "Wrong hash at block 5.\n",
            "Wrong block index at block 9.\n",
            "Wrong hash at block 9.\n",
            "Wrong hash at block 16.\n",
            "Backdating at block 16.\n",
            "Wrong hash at block 17.\n",
            "Backdating at block 17.\n",
            "Wrong hash at block 18.\n",
            "Backdating at block 18.\n",
            "Time to verify the counter chain = 2.6628 sec.\n",
            "\n",
            "\n",
            "FOR 500000 BLOCKS/PRODUCTS:\n",
            "\n",
            "Counter chain comparison status with original chain:  True\n",
            "Time taken to fork the chain =  14.09 sec\n",
            "Wrong previous hash at block 5.\n",
            "Wrong hash at block 5.\n",
            "Wrong block index at block 9.\n",
            "Wrong hash at block 9.\n",
            "Wrong hash at block 16.\n",
            "Backdating at block 16.\n",
            "Wrong hash at block 17.\n",
            "Backdating at block 17.\n",
            "Wrong hash at block 18.\n",
            "Backdating at block 18.\n",
            "Time to verify the counter chain = 5.3688 sec.\n",
            "\n",
            "\n",
            "FOR 1000000 BLOCKS/PRODUCTS:\n",
            "\n",
            "Counter chain comparison status with original chain:  True\n",
            "Time taken to fork the chain =  28.37 sec\n",
            "Wrong previous hash at block 5.\n",
            "Wrong hash at block 5.\n",
            "Wrong block index at block 9.\n",
            "Wrong hash at block 9.\n",
            "Wrong hash at block 16.\n",
            "Backdating at block 16.\n",
            "Wrong hash at block 17.\n",
            "Backdating at block 17.\n",
            "Wrong hash at block 18.\n",
            "Backdating at block 18.\n",
            "Time to verify the counter chain = 10.6227 sec.\n",
            "\n",
            "\n",
            "FOR 10000 BLOCKS/PRODUCTS:\n",
            "\n"
          ],
          "name": "stdout"
        },
        {
          "output_type": "error",
          "ename": "NameError",
          "evalue": "ignored",
          "traceback": [
            "\u001b[0;31m---------------------------------------------------------------------------\u001b[0m",
            "\u001b[0;31mNameError\u001b[0m                                 Traceback (most recent call last)",
            "\u001b[0;32m<ipython-input-19-f2de461f913b>\u001b[0m in \u001b[0;36m<module>\u001b[0;34m()\u001b[0m\n\u001b[1;32m     45\u001b[0m   \u001b[0mproduct_id_array\u001b[0m \u001b[0;34m=\u001b[0m \u001b[0;34m[\u001b[0m\u001b[0;34m]\u001b[0m\u001b[0;34m\u001b[0m\u001b[0;34m\u001b[0m\u001b[0m\n\u001b[1;32m     46\u001b[0m \u001b[0;34m\u001b[0m\u001b[0m\n\u001b[0;32m---> 47\u001b[0;31m   \u001b[0;32mfor\u001b[0m \u001b[0mnumber_of_block\u001b[0m \u001b[0;32min\u001b[0m \u001b[0mrange\u001b[0m\u001b[0;34m(\u001b[0m\u001b[0mlen\u001b[0m\u001b[0;34m(\u001b[0m\u001b[0mc\u001b[0m\u001b[0;34m.\u001b[0m\u001b[0mblocks\u001b[0m\u001b[0;34m)\u001b[0m\u001b[0;34m)\u001b[0m\u001b[0;34m:\u001b[0m\u001b[0;34m\u001b[0m\u001b[0;34m\u001b[0m\u001b[0m\n\u001b[0m\u001b[1;32m     48\u001b[0m     \u001b[0;32mif\u001b[0m \u001b[0mc\u001b[0m\u001b[0;34m.\u001b[0m\u001b[0mblocks\u001b[0m\u001b[0;34m[\u001b[0m\u001b[0mnumber_of_block\u001b[0m\u001b[0;34m]\u001b[0m\u001b[0;34m.\u001b[0m\u001b[0mindex\u001b[0m \u001b[0;32min\u001b[0m \u001b[0mproducts_bought\u001b[0m\u001b[0;34m:\u001b[0m\u001b[0;34m\u001b[0m\u001b[0;34m\u001b[0m\u001b[0m\n\u001b[1;32m     49\u001b[0m       \u001b[0mcount\u001b[0m \u001b[0;34m+=\u001b[0m \u001b[0;36m1\u001b[0m\u001b[0;34m\u001b[0m\u001b[0;34m\u001b[0m\u001b[0m\n",
            "\u001b[0;31mNameError\u001b[0m: name 'c' is not defined"
          ]
        }
      ]
    },
    {
      "cell_type": "code",
      "metadata": {
        "colab": {
          "base_uri": "https://localhost:8080/"
        },
        "id": "nhj5ytyUvFYX",
        "outputId": "727c46c2-8514-4c56-f940-4fb2bf175b0d"
      },
      "source": [
        "time_to_trace_items = []\n",
        "product_purchased_dataframes = []\n",
        "\n",
        "for number_of_blocks in nob_values_2:\n",
        "  print(\"\\n\\nFOR\",number_of_blocks,\"BLOCKS/PRODUCTS:\\n\")\n",
        "  chain = MinimalChain()\n",
        "  for i in range(1,number_of_blocks +1):\n",
        "    chain.add_block('This block belongs to chain')\n",
        "  \n",
        "\n",
        " \n",
        "  start = timer()\n",
        "\n",
        "  index_array = []\n",
        "  timestamp_array = []\n",
        "  prev_hash_array = []\n",
        "  hash_array = []\n",
        "  source_array = []\n",
        "  category_array = []\n",
        "  product_id_array = []\n",
        "\n",
        "  for number_of_block in range(len(chain.blocks)):\n",
        "    if chain.blocks[number_of_block].index in products_bought:\n",
        "      count += 1\n",
        "      index_array.append(chain.blocks[number_of_block].index)\n",
        "      timestamp_array.append(chain.blocks[number_of_block].timestamp)\n",
        "      prev_hash_array.append(chain.blocks[number_of_block].previous_hash)\n",
        "      hash_array.append(chain.blocks[number_of_block].hash)\n",
        "      source_array.append(chain.blocks[number_of_block].source)\n",
        "      category_array.append(chain.blocks[number_of_block].category)\n",
        "      product_id_array.append(chain.blocks[number_of_block].product_id)\n",
        "\n",
        "      your_product_details = pd.DataFrame({'Index':index_array, 'Time-stamp':timestamp_array, 'Previous hash':prev_hash_array, 'Hash':hash_array, 'Source factory':source_array, 'Category of product':category_array, 'Product ID':product_id_array})\n",
        "  \n",
        "  product_purchased_dataframes.append(your_product_details)\n",
        "  end = timer()\n",
        "  time_to_trace_items.append(round(end-start,4))\n",
        "  print(\"Time taken to trace the items =\",round(end-start,4),\"sec.\")\n",
        "\n",
        "\n"
      ],
      "execution_count": null,
      "outputs": [
        {
          "output_type": "stream",
          "text": [
            "\n",
            "\n",
            "FOR 1000000 BLOCKS/PRODUCTS:\n",
            "\n",
            "Time taken to trace the items = 0.3712 sec.\n",
            "\n",
            "\n",
            "FOR 2500000 BLOCKS/PRODUCTS:\n",
            "\n",
            "Time taken to trace the items = 0.9595 sec.\n",
            "\n",
            "\n",
            "FOR 5000000 BLOCKS/PRODUCTS:\n",
            "\n",
            "Time taken to trace the items = 1.875 sec.\n",
            "\n",
            "\n",
            "FOR 10000000 BLOCKS/PRODUCTS:\n",
            "\n",
            "Time taken to trace the items = 3.6238 sec.\n",
            "\n",
            "\n",
            "FOR 25000000 BLOCKS/PRODUCTS:\n",
            "\n"
          ],
          "name": "stdout"
        }
      ]
    },
    {
      "cell_type": "code",
      "metadata": {
        "colab": {
          "base_uri": "https://localhost:8080/",
          "height": 295
        },
        "id": "6LU96NvfmG0F",
        "outputId": "72653ca0-9cda-42ce-e2c3-be196fddd970"
      },
      "source": [
        "plt.plot(nob_values, time_to_verify_chain)\n",
        "#plt.plot(nob_values, time_to_trace_items)\n",
        "plt.title('Time to verify the given blockchain w.r.t. number of blocks:')\n",
        "plt.xlabel('Number of blocks')\n",
        "plt.ylabel('Time taken to verify the chain(sec)')\n",
        "plt.show()"
      ],
      "execution_count": null,
      "outputs": [
        {
          "output_type": "display_data",
          "data": {
            "image/png": "[encoded data removed]",
            "text/plain": [
              "<Figure size 432x288 with 1 Axes>"
            ]
          },
          "metadata": {
            "tags": [],
            "needs_background": "light"
          }
        }
      ]
    },
    {
      "cell_type": "code",
      "metadata": {
        "id": "hl3CODWX42dG"
      },
      "source": [
        "time_to_trace_items = [0.3712, 0.9595, 1.875, 3.6238, 9.2514, 19.0328]"
      ],
      "execution_count": null,
      "outputs": []
    },
    {
      "cell_type": "code",
      "metadata": {
        "colab": {
          "base_uri": "https://localhost:8080/",
          "height": 295
        },
        "id": "5hgklDWLuoB8",
        "outputId": "fc650153-6d75-4d99-88a2-831ce42dc963"
      },
      "source": [
        "plt.plot(nob_values_2, time_to_trace_items, color = 'green')\n",
        "#plt.plot(nob_values, time_to_trace_items)\n",
        "plt.title('Time to trace the given blockchain w.r.t. number of blocks:')\n",
        "plt.xlabel('Number of blocks')\n",
        "plt.ylabel('Time taken to trace the data')\n",
        "plt.show()"
      ],
      "execution_count": null,
      "outputs": [
        {
          "output_type": "display_data",
          "data": {
            "image/png": "[encoded data removed]",
            "text/plain": [
              "<Figure size 432x288 with 1 Axes>"
            ]
          },
          "metadata": {
            "tags": [],
            "needs_background": "light"
          }
        }
      ]
    },
    {
      "cell_type": "code",
      "metadata": {
        "id": "RjLJC6qr6_M-"
      },
      "source": [
        ""
      ],
      "execution_count": null,
      "outputs": []
    }
  ]
}